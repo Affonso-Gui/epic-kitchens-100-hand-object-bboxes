{
 "cells": [
  {
   "cell_type": "code",
   "execution_count": 1,
   "metadata": {},
   "outputs": [],
   "source": [
    "import sys\n",
    "sys.path.insert(0, '../src')"
   ]
  },
  {
   "cell_type": "code",
   "execution_count": 2,
   "metadata": {},
   "outputs": [],
   "source": [
    "from typing import Union, List\n",
    "from pathlib import Path\n",
    "import re\n",
    "from ipywidgets import interact, IntSlider, Layout\n",
    "\n",
    "\n",
    "from public_lib import load_detections, DetectionRenderer\n",
    "import PIL.Image"
   ]
  },
  {
   "cell_type": "code",
   "execution_count": 3,
   "metadata": {},
   "outputs": [],
   "source": [
    "# Adjust these to the where-ever your detections and frames are stored.\n",
    "\n",
    "# detections_root should point to a folder with the structure\n",
    "# detections_root\n",
    "# |-- PXX\n",
    "# |   |--- PXX_YY.pkl\n",
    "detections_root = Path('../detections')\n",
    "\n",
    "# frame_root shout point to a folder with the structure\n",
    "# frames_root\n",
    "# |-- PXX\n",
    "# |   |-- PXX_YY\n",
    "# |   |   |-- frame_zzzzzzzzzz.jpg\n",
    "frames_root = Path('../frames')"
   ]
  },
  {
   "cell_type": "code",
   "execution_count": 4,
   "metadata": {},
   "outputs": [
    {
     "data": {
      "text/plain": [
       "214269"
      ]
     },
     "execution_count": 4,
     "metadata": {},
     "output_type": "execute_result"
    }
   ],
   "source": [
    "video_id = 'P01_09'\n",
    "participant_id = video_id[:3]\n",
    "video_detections = load_detections(detections_root / participant_id / (video_id + '.pkl'))\n",
    "max_frame_idx = len(video_detections) - 1\n",
    "max_frame_idx"
   ]
  },
  {
   "cell_type": "code",
   "execution_count": 5,
   "metadata": {},
   "outputs": [
    {
     "data": {
      "text/plain": [
       "FrameDetections(video_id='P01_09', frame_number=2501, objects=[ObjectDetection(bbox=BBox(top_left_x=0.4583333432674408, top_left_y=0.77734375, bottom_right_x=0.5701754093170166, bottom_right_y=0.9765625), score=0.8887454867362976)], hands=[HandDetection(bbox=BBox(top_left_x=0.5087719559669495, top_left_y=0.78515625, bottom_right_x=0.640350878238678, bottom_right_y=0.9765625), score=0.9911034107208252, state=<HandState.PORTABLE_OBJECT: 3>, side=<HandSide.RIGHT: 1>, object_offset=FloatVector(x=0.04746267572045326, y=0.0014553650980815291)), HandDetection(bbox=BBox(top_left_x=0.44078946113586426, top_left_y=0.80078125, bottom_right_x=0.5460526347160339, bottom_right_y=0.98828125), score=0.11721242219209671, state=<HandState.PORTABLE_OBJECT: 3>, side=<HandSide.LEFT: 0>, object_offset=FloatVector(x=0.027577195316553116, y=-0.06960134208202362))])"
      ]
     },
     "execution_count": 5,
     "metadata": {},
     "output_type": "execute_result"
    }
   ],
   "source": [
    "frame_idx = 2500\n",
    "video_detections[frame_idx]"
   ]
  },
  {
   "cell_type": "code",
   "execution_count": 6,
   "metadata": {},
   "outputs": [],
   "source": [
    "class LazyFrameLoader:\n",
    "    def __init__(self, path: Union[Path, str], frame_template: str = 'frame_{:010d}.jpg'):\n",
    "        self.path = Path(path)\n",
    "        self.frame_template = frame_template\n",
    "        \n",
    "    def __getitem__(self, idx: int) -> PIL.Image.Image:\n",
    "        return PIL.Image.open(str(self.path / self.frame_template.format(idx + 1)))"
   ]
  },
  {
   "cell_type": "code",
   "execution_count": 7,
   "metadata": {},
   "outputs": [],
   "source": [
    "frames = LazyFrameLoader(frames_root / participant_id / video_id)"
   ]
  },
  {
   "cell_type": "code",
   "execution_count": 8,
   "metadata": {},
   "outputs": [
    {
     "data": {
      "application/vnd.jupyter.widget-view+json": {
       "model_id": "f57ad8c418ab4a9db8655931fab34503",
       "version_major": 2,
       "version_minor": 0
      },
      "text/plain": [
       "interactive(children=(IntSlider(value=13403, description='frame_idx', layout=Layout(width='650px'), max=214269…"
      ]
     },
     "metadata": {},
     "output_type": "display_data"
    }
   ],
   "source": [
    "renderer = DetectionRenderer(hand_threshold=0.1, object_threshold=0.1)\n",
    "\n",
    "@interact(frame_idx=IntSlider(value=13403, min=0, max=max_frame_idx, layout=Layout(width='650px')))\n",
    "def render_detections(frame_idx):\n",
    "    return renderer.render_detections(frames[frame_idx], video_detections[frame_idx])"
   ]
  }
 ],
 "metadata": {
  "kernelspec": {
   "display_name": "Python [conda env:epic-hand-object-lib]",
   "language": "python",
   "name": "conda-env-epic-hand-object-lib-py"
  },
  "language_info": {
   "codemirror_mode": {
    "name": "ipython",
    "version": 3
   },
   "file_extension": ".py",
   "mimetype": "text/x-python",
   "name": "python",
   "nbconvert_exporter": "python",
   "pygments_lexer": "ipython3",
   "version": "3.7.6"
  }
 },
 "nbformat": 4,
 "nbformat_minor": 4
}
